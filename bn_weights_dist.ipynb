{
 "cells": [
  {
   "cell_type": "code",
   "execution_count": 1,
   "metadata": {},
   "outputs": [],
   "source": [
    "import torch\n",
    "import numpy as np\n",
    "import matplotlib.pyplot as plt\n",
    "import pandas as pd"
   ]
  },
  {
   "cell_type": "code",
   "execution_count": 3,
   "metadata": {},
   "outputs": [],
   "source": [
    "def get_bn_weights(checkpoint):\n",
    "    bn_layers = [x for x in checkpoint['model'].keys() if \"BatchNorm2d.weight\" in x]\n",
    "    bns_weights_all = np.concatenate([checkpoint['model'][layer].cpu().numpy() for layer in bn_layers])\n",
    "    bns_weights_all[::-1].sort()\n",
    "    return bns_weights_all"
   ]
  },
  {
   "cell_type": "code",
   "execution_count": 5,
   "metadata": {},
   "outputs": [
    {
     "data": {
      "image/png": "[encoded data removed]",
      "text/plain": [
       "<Figure size 1080x360 with 1 Axes>"
      ]
     },
     "metadata": {
      "needs_background": "light"
     },
     "output_type": "display_data"
    }
   ],
   "source": [
    "# load original weights before sparsity training\n",
    "orig = torch.load(\"weights/slimmerer_first10000_bestconverted.pt\")\n",
    "orig_weights_all = get_bn_weights(orig)\n",
    "\n",
    "# load sparse weights\n",
    "checkpoint = torch.load(\"weights/best_tiny_slimmerer_first_10000_bdd100k_best.pt\")\n",
    "bns_weights_all = get_bn_weights(checkpoint)\n",
    "\n",
    "plt.figure(figsize=(15,5))\n",
    "\n",
    "# plot original weights\n",
    "count, bins, ax = plt.hist(orig_weights_all, bins=100,color='black', alpha=0.3)\n",
    "\n",
    "# plot sparse weights\n",
    "plt.hist(bns_weights_all, bins=bins, color='gold', alpha=0.6)\n",
    "\n",
    "#plot pruned weights\n",
    "prune_extent = 0.3\n",
    "plt.hist(np.sort(bns_weights_all)[int(len(bns_weights_all)*prune_extent):], bins=bins, color='red',alpha=0.6)\n",
    "\n",
    "plt.legend(['original','sparsity_training','after_pruning'])\n",
    "\n",
    "plt.show()"
   ]
  },
  {
   "cell_type": "markdown",
   "metadata": {},
   "source": [
    "---"
   ]
  },
  {
   "cell_type": "markdown",
   "metadata": {},
   "source": [
    "### To put the model into the correct dict format for conversion"
   ]
  },
  {
   "cell_type": "code",
   "execution_count": 40,
   "metadata": {},
   "outputs": [],
   "source": [
    "\"\"\"\n",
    "pt_original: the raw pruned .pt after running prune.py\n",
    "pt_new: .pt in correct dict format, for conversion to .weights\n",
    "\"\"\"\n",
    "def output_pruned_model(pt_original, pt_new):\n",
    "    pruned_model = torch.load(pt_original)\n",
    "    pruned_pt = {}\n",
    "    pruned_pt['model'] = pruned_model\n",
    "    torch.save(pruned_pt, pt_new)"
   ]
  },
  {
   "cell_type": "code",
   "execution_count": 41,
   "metadata": {},
   "outputs": [],
   "source": [
    "# e.g.\n",
    "output_pruned_model(\"prune_0.6_0.2/prune.pt\",'prune_0.6_0.2/prune_model2.pt')\n",
    "# then run convert script"
   ]
  },
  {
   "cell_type": "code",
   "execution_count": null,
   "metadata": {},
   "outputs": [],
   "source": []
  }
 ],
 "metadata": {
  "kernelspec": {
   "display_name": "Python 3",
   "language": "python",
   "name": "python3"
  },
  "language_info": {
   "codemirror_mode": {
    "name": "ipython",
    "version": 3
   },
   "file_extension": ".py",
   "mimetype": "text/x-python",
   "name": "python",
   "nbconvert_exporter": "python",
   "pygments_lexer": "ipython3",
   "version": "3.5.2"
  }
 },
 "nbformat": 4,
 "nbformat_minor": 2
}
